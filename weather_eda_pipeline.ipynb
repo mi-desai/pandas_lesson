{
 "cells": [
  {
   "cell_type": "code",
   "execution_count": 41,
   "metadata": {},
   "outputs": [],
   "source": [
    "import numpy as np\n",
    "import pandas as pd\n",
    "import datetime"
   ]
  },
  {
   "cell_type": "code",
   "execution_count": 42,
   "metadata": {},
   "outputs": [],
   "source": [
    "weather = pd.read_csv('data/bulk_weather.csv')"
   ]
  },
  {
   "cell_type": "code",
   "execution_count": 43,
   "metadata": {},
   "outputs": [
    {
     "name": "stdout",
     "output_type": "stream",
     "text": [
      "Number of rows: 402463 \n",
      " Number of columns: 25 \n",
      " Column names: ['dt', 'dt_iso', 'timezone', 'city_name', 'lat', 'lon', 'temp', 'feels_like', 'temp_min', 'temp_max', 'pressure', 'sea_level', 'grnd_level', 'humidity', 'wind_speed', 'wind_deg', 'rain_1h', 'rain_3h', 'snow_1h', 'snow_3h', 'clouds_all', 'weather_id', 'weather_main', 'weather_description', 'weather_icon']\n"
     ]
    }
   ],
   "source": [
    "print(f'Number of rows: {weather.shape[0]}', '\\n', f'Number of columns: {weather.shape[1]}', '\\n', f'Column names: {list(weather.columns)}')"
   ]
  },
  {
   "cell_type": "code",
   "execution_count": 44,
   "metadata": {},
   "outputs": [
    {
     "data": {
      "text/html": [
       "<div>\n",
       "<style scoped>\n",
       "    .dataframe tbody tr th:only-of-type {\n",
       "        vertical-align: middle;\n",
       "    }\n",
       "\n",
       "    .dataframe tbody tr th {\n",
       "        vertical-align: top;\n",
       "    }\n",
       "\n",
       "    .dataframe thead th {\n",
       "        text-align: right;\n",
       "    }\n",
       "</style>\n",
       "<table border=\"1\" class=\"dataframe\">\n",
       "  <thead>\n",
       "    <tr style=\"text-align: right;\">\n",
       "      <th></th>\n",
       "      <th>dt</th>\n",
       "      <th>dt_iso</th>\n",
       "      <th>timezone</th>\n",
       "    </tr>\n",
       "  </thead>\n",
       "  <tbody>\n",
       "    <tr>\n",
       "      <td>402458</td>\n",
       "      <td>1611514800</td>\n",
       "      <td>2021-01-24 19:00:00 +0000 UTC</td>\n",
       "      <td>-28800</td>\n",
       "    </tr>\n",
       "    <tr>\n",
       "      <td>402459</td>\n",
       "      <td>1611518400</td>\n",
       "      <td>2021-01-24 20:00:00 +0000 UTC</td>\n",
       "      <td>-28800</td>\n",
       "    </tr>\n",
       "    <tr>\n",
       "      <td>402460</td>\n",
       "      <td>1611522000</td>\n",
       "      <td>2021-01-24 21:00:00 +0000 UTC</td>\n",
       "      <td>-28800</td>\n",
       "    </tr>\n",
       "    <tr>\n",
       "      <td>402461</td>\n",
       "      <td>1611525600</td>\n",
       "      <td>2021-01-24 22:00:00 +0000 UTC</td>\n",
       "      <td>-28800</td>\n",
       "    </tr>\n",
       "    <tr>\n",
       "      <td>402462</td>\n",
       "      <td>1611529200</td>\n",
       "      <td>2021-01-24 23:00:00 +0000 UTC</td>\n",
       "      <td>-28800</td>\n",
       "    </tr>\n",
       "  </tbody>\n",
       "</table>\n",
       "</div>"
      ],
      "text/plain": [
       "                dt                         dt_iso  timezone\n",
       "402458  1611514800  2021-01-24 19:00:00 +0000 UTC    -28800\n",
       "402459  1611518400  2021-01-24 20:00:00 +0000 UTC    -28800\n",
       "402460  1611522000  2021-01-24 21:00:00 +0000 UTC    -28800\n",
       "402461  1611525600  2021-01-24 22:00:00 +0000 UTC    -28800\n",
       "402462  1611529200  2021-01-24 23:00:00 +0000 UTC    -28800"
      ]
     },
     "execution_count": 44,
     "metadata": {},
     "output_type": "execute_result"
    }
   ],
   "source": [
    "weather[['dt', 'dt_iso', 'timezone']].tail()"
   ]
  },
  {
   "cell_type": "code",
   "execution_count": 45,
   "metadata": {},
   "outputs": [],
   "source": [
    "weather['date'] = pd.to_datetime(weather['dt'], unit='s')"
   ]
  },
  {
   "cell_type": "code",
   "execution_count": 46,
   "metadata": {},
   "outputs": [
    {
     "data": {
      "text/html": [
       "<div>\n",
       "<style scoped>\n",
       "    .dataframe tbody tr th:only-of-type {\n",
       "        vertical-align: middle;\n",
       "    }\n",
       "\n",
       "    .dataframe tbody tr th {\n",
       "        vertical-align: top;\n",
       "    }\n",
       "\n",
       "    .dataframe thead th {\n",
       "        text-align: right;\n",
       "    }\n",
       "</style>\n",
       "<table border=\"1\" class=\"dataframe\">\n",
       "  <thead>\n",
       "    <tr style=\"text-align: right;\">\n",
       "      <th></th>\n",
       "      <th>date</th>\n",
       "      <th>dt</th>\n",
       "    </tr>\n",
       "  </thead>\n",
       "  <tbody>\n",
       "    <tr>\n",
       "      <td>402458</td>\n",
       "      <td>2021-01-24 19:00:00</td>\n",
       "      <td>1611514800</td>\n",
       "    </tr>\n",
       "    <tr>\n",
       "      <td>402459</td>\n",
       "      <td>2021-01-24 20:00:00</td>\n",
       "      <td>1611518400</td>\n",
       "    </tr>\n",
       "    <tr>\n",
       "      <td>402460</td>\n",
       "      <td>2021-01-24 21:00:00</td>\n",
       "      <td>1611522000</td>\n",
       "    </tr>\n",
       "    <tr>\n",
       "      <td>402461</td>\n",
       "      <td>2021-01-24 22:00:00</td>\n",
       "      <td>1611525600</td>\n",
       "    </tr>\n",
       "    <tr>\n",
       "      <td>402462</td>\n",
       "      <td>2021-01-24 23:00:00</td>\n",
       "      <td>1611529200</td>\n",
       "    </tr>\n",
       "  </tbody>\n",
       "</table>\n",
       "</div>"
      ],
      "text/plain": [
       "                      date          dt\n",
       "402458 2021-01-24 19:00:00  1611514800\n",
       "402459 2021-01-24 20:00:00  1611518400\n",
       "402460 2021-01-24 21:00:00  1611522000\n",
       "402461 2021-01-24 22:00:00  1611525600\n",
       "402462 2021-01-24 23:00:00  1611529200"
      ]
     },
     "execution_count": 46,
     "metadata": {},
     "output_type": "execute_result"
    }
   ],
   "source": [
    "weather[['date', 'dt']].tail()"
   ]
  },
  {
   "cell_type": "code",
   "execution_count": 47,
   "metadata": {},
   "outputs": [],
   "source": [
    "weather = weather.set_index(['date', 'city_name']).rename_axis(index=['date', 'city']).sort_index(ascending=False)"
   ]
  },
  {
   "cell_type": "code",
   "execution_count": 48,
   "metadata": {},
   "outputs": [
    {
     "name": "stdout",
     "output_type": "stream",
     "text": [
      "MultiIndex([('2021-01-24 23:00:00', 'San Francisco'),\n",
      "            ('2021-01-24 23:00:00',      'New York'),\n",
      "            ('2021-01-24 23:00:00',         'Miami'),\n",
      "            ('2021-01-24 22:00:00', 'San Francisco'),\n",
      "            ('2021-01-24 22:00:00',      'New York'),\n",
      "            ('2021-01-24 22:00:00',         'Miami'),\n",
      "            ('2021-01-24 21:00:00', 'San Francisco'),\n",
      "            ('2021-01-24 21:00:00',      'New York'),\n",
      "            ('2021-01-24 21:00:00',         'Miami'),\n",
      "            ('2021-01-24 20:00:00', 'San Francisco'),\n",
      "            ...\n",
      "            ('2006-01-01 03:00:00',         'Miami'),\n",
      "            ('2006-01-01 02:00:00', 'San Francisco'),\n",
      "            ('2006-01-01 02:00:00',      'New York'),\n",
      "            ('2006-01-01 02:00:00',         'Miami'),\n",
      "            ('2006-01-01 01:00:00', 'San Francisco'),\n",
      "            ('2006-01-01 01:00:00',      'New York'),\n",
      "            ('2006-01-01 01:00:00',         'Miami'),\n",
      "            ('2006-01-01 00:00:00', 'San Francisco'),\n",
      "            ('2006-01-01 00:00:00',      'New York'),\n",
      "            ('2006-01-01 00:00:00',         'Miami')],\n",
      "           names=['date', 'city'], length=402463)\n"
     ]
    }
   ],
   "source": [
    "print(weather.index)"
   ]
  },
  {
   "cell_type": "code",
   "execution_count": null,
   "metadata": {},
   "outputs": [],
   "source": [
    "# want lat longs to be in their own column as a tuple of (lat, long)\n",
    "\n",
    "# extract rolling time series features for temp"
   ]
  }
 ],
 "metadata": {
  "kernelspec": {
   "display_name": "Python 3",
   "language": "python",
   "name": "python3"
  },
  "language_info": {
   "codemirror_mode": {
    "name": "ipython",
    "version": 3
   },
   "file_extension": ".py",
   "mimetype": "text/x-python",
   "name": "python",
   "nbconvert_exporter": "python",
   "pygments_lexer": "ipython3",
   "version": "3.7.4"
  },
  "toc": {
   "base_numbering": 1,
   "nav_menu": {},
   "number_sections": false,
   "sideBar": false,
   "skip_h1_title": false,
   "title_cell": "Table of Contents",
   "title_sidebar": "Contents",
   "toc_cell": false,
   "toc_position": {},
   "toc_section_display": false,
   "toc_window_display": false
  }
 },
 "nbformat": 4,
 "nbformat_minor": 2
}
