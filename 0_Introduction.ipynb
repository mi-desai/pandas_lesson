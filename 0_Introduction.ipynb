{
 "cells": [
  {
   "cell_type": "markdown",
   "metadata": {},
   "source": [
    "# PART 0 - INTRODUCTION\n",
    "\n",
    "## Concepts & Discussion (GoogleDoc)\n",
    "\n",
    "- Why Anaconda?\n",
    "- Installing packages\n",
    "- conda vs. pip\n",
    "- environments\n",
    "- adding packages not in conda\n",
    "- recommendations to go deeper\n",
    "\n",
    "\n",
    "## Code Examples (Jupyter Notebook)\n",
    "\n",
    "- adding packages from pip\n",
    "- other command line commands\n",
    "- importing modules\n",
    "- importing your own code\n",
    "\n",
    "\n",
    "## Comments\n",
    "\n",
    "The idea here is to cover the absolute basics of getting started.<br>\n",
    "\n",
    "The idea is that if you do what I recommend here, you will have the <br>\n",
    "fastest start, with hopefully the least amount of headache, and perhaps <br>\n",
    "never have to think about environments or setup in Python ever again. "
   ]
  },
  {
   "cell_type": "markdown",
   "metadata": {},
   "source": [
    "# Adding Packages from pip / accessing the command line from notebook"
   ]
  },
  {
   "cell_type": "code",
   "execution_count": 1,
   "metadata": {},
   "outputs": [
    {
     "name": "stdout",
     "output_type": "stream",
     "text": [
      "Requirement already satisfied: pandas in c:\\users\\michael desai\\anaconda\\lib\\site-packages (0.25.1)\n",
      "Requirement already satisfied: python-dateutil>=2.6.1 in c:\\users\\michael desai\\anaconda\\lib\\site-packages (from pandas) (2.8.0)\n",
      "Requirement already satisfied: pytz>=2017.2 in c:\\users\\michael desai\\anaconda\\lib\\site-packages (from pandas) (2019.3)\n",
      "Requirement already satisfied: numpy>=1.13.3 in c:\\users\\michael desai\\anaconda\\lib\\site-packages (from pandas) (1.16.5)\n",
      "Requirement already satisfied: six>=1.5 in c:\\users\\michael desai\\anaconda\\lib\\site-packages (from python-dateutil>=2.6.1->pandas) (1.12.0)\n"
     ]
    }
   ],
   "source": [
    "!pip install pandas"
   ]
  },
  {
   "cell_type": "code",
   "execution_count": 1,
   "metadata": {},
   "outputs": [
    {
     "name": "stdout",
     "output_type": "stream",
     "text": [
      "# packages in environment at C:\\Users\\Michael Desai\\Anaconda:\n",
      "#\n",
      "# Name                    Version                   Build  Channel\n",
      "_ipyw_jlab_nb_ext_conf    0.1.0                    py37_0  \n",
      "alabaster                 0.7.12                   py37_0  \n",
      "anaconda                  2019.10                  py37_0  \n",
      "anaconda-client           1.7.2                    py37_0  \n",
      "anaconda-navigator        1.9.12                   py37_0  \n",
      "anaconda-project          0.8.3                      py_0  \n",
      "asn1crypto                1.0.1                    py37_0  \n",
      "astroid                   2.3.1                    py37_0  \n",
      "astropy                   3.2.1            py37he774522_0  \n",
      "atomicwrites              1.3.0                    py37_1  \n",
      "attrs                     19.2.0                     py_0  \n",
      "automat                   0.8.0                      py_0    conda-forge\n",
      "babel                     2.7.0                      py_0  \n",
      "backcall                  0.1.0                    py37_0  \n",
      "backports                 1.0                        py_2  \n",
      "backports.functools_lru_cache 1.5                        py_2  \n",
      "backports.os              0.1.1                    py37_0  \n",
      "backports.shutil_get_terminal_size 1.0.0                    py37_2  \n",
      "backports.tempfile        1.0                        py_1  \n",
      "backports.weakref         1.0.post1                  py_1  \n",
      "bcrypt                    3.1.7            py37hfa6e2cd_0    conda-forge\n",
      "beakerx                   1.4.1                    py37_1    conda-forge\n",
      "beautifulsoup4            4.8.0                    py37_0  \n",
      "bitarray                  1.0.1            py37he774522_0  \n",
      "bkcharts                  0.2                      py37_0  \n",
      "blas                      1.0                         mkl  \n",
      "bleach                    3.1.0                    py37_0  \n",
      "blosc                     1.16.3               h7bd577a_0  \n",
      "bokeh                     1.3.4                    py37_0  \n",
      "boto                      2.49.0                   py37_0  \n",
      "bottleneck                1.2.1            py37h452e1ab_1  \n",
      "bqplot                    0.12.3                     py_0    conda-forge\n",
      "bzip2                     1.0.8                he774522_0  \n",
      "ca-certificates           2019.8.28                     0  \n",
      "certifi                   2019.9.11                py37_0  \n",
      "cffi                      1.12.3           py37h7a1dbc1_0  \n",
      "chardet                   3.0.4                 py37_1003  \n",
      "click                     7.0                      py37_0  \n",
      "cloudpickle               1.2.2                      py_0  \n",
      "clyent                    1.2.2                    py37_1  \n",
      "colorama                  0.4.1                    py37_0  \n",
      "comtypes                  1.1.7                    py37_0  \n",
      "conda                     4.8.5            py37hf50a25e_3    conda-forge\n",
      "conda-build               3.18.9                   py37_3  \n",
      "conda-env                 2.6.0                         1  \n",
      "conda-package-handling    1.6.0            py37h62dcd97_0  \n",
      "conda-verify              3.4.2                      py_1  \n",
      "console_shortcut          0.1.1                         3  \n",
      "constantly                15.1.0                     py_0    conda-forge\n",
      "contextlib2               0.6.0                      py_0  \n",
      "cryptography              2.7              py37h7a1dbc1_0  \n",
      "cssselect                 1.1.0                      py_0    conda-forge\n",
      "curl                      7.65.3               h2a8f88b_0  \n",
      "cvxopt                    1.2.5.post1              pypi_0    pypi\n",
      "cvxpy                     1.1.6            py37h1834ac0_0    conda-forge\n",
      "cvxpy-base                1.1.6            py37h414f9d2_0    conda-forge\n",
      "cycler                    0.10.0                   py37_0  \n",
      "cython                    0.29.13          py37ha925a31_0  \n",
      "cytoolz                   0.10.0           py37he774522_0  \n",
      "dask                      2.5.2                      py_0  \n",
      "dask-core                 2.5.2                      py_0  \n",
      "decorator                 4.4.0                    py37_1  \n",
      "defusedxml                0.6.0                      py_0  \n",
      "distributed               2.5.2                      py_0  \n",
      "docutils                  0.15.2                   py37_0  \n",
      "ecos                      2.0.7.post1      py37h44b1f71_2    conda-forge\n",
      "entrypoints               0.3                      py37_0  \n",
      "et_xmlfile                1.0.1                    py37_0  \n",
      "fastcache                 1.1.0            py37he774522_0  \n",
      "filelock                  3.0.12                     py_0  \n",
      "finquant                  0.2.2                    pypi_0    pypi\n",
      "flask                     1.1.1                      py_0  \n",
      "freetype                  2.9.1                ha9979f8_1  \n",
      "fsspec                    0.5.2                      py_0  \n",
      "future                    0.17.1                   py37_0  \n",
      "get_terminal_size         1.0.0                h38e98db_0  \n",
      "gevent                    1.4.0            py37he774522_0  \n",
      "glob2                     0.7                        py_0  \n",
      "greenlet                  0.4.15           py37hfa6e2cd_0  \n",
      "h5py                      2.9.0            py37h5e291fa_0  \n",
      "hdf5                      1.10.4               h7ebc959_0  \n",
      "heapdict                  1.0.1                      py_0  \n",
      "html5lib                  1.0.1                    py37_0  \n",
      "hyperlink                 17.3.1                     py_0    conda-forge\n",
      "icc_rt                    2019.0.0             h0cc432a_1  \n",
      "icu                       58.2                 ha66f8fd_1  \n",
      "idna                      2.8                      py37_0  \n",
      "imageio                   2.6.0                    py37_0  \n",
      "imagesize                 1.1.0                    py37_0  \n",
      "importlib_metadata        0.23                     py37_0  \n",
      "incremental               17.5.0                     py_0    conda-forge\n",
      "inflection                0.5.1                    pypi_0    pypi\n",
      "intel-openmp              2019.4                      245  \n",
      "ipykernel                 5.1.2            py37h39e3cac_0  \n",
      "ipython                   7.8.0            py37h39e3cac_0  \n",
      "ipython_genutils          0.2.0                    py37_0  \n",
      "ipywidgets                7.5.1                      py_0    conda-forge\n",
      "isort                     4.3.21                   py37_0  \n",
      "itsdangerous              1.1.0                    py37_0  \n",
      "jdcal                     1.4.1                      py_0  \n",
      "jedi                      0.15.1                   py37_0  \n",
      "jinja2                    2.10.3                     py_0  \n",
      "joblib                    0.13.2                   py37_0  \n",
      "jpeg                      9b                   hb83a4c4_2  \n",
      "json5                     0.8.5                      py_0  \n",
      "jsonschema                3.0.2                    py37_0  \n",
      "jupyter                   1.0.0                    py37_7  \n",
      "jupyter_client            5.3.3                    py37_1  \n",
      "jupyter_console           6.0.0                    py37_0  \n",
      "jupyter_core              4.5.0                      py_0  \n",
      "jupyterlab                1.1.4              pyhf63ae98_0  \n",
      "jupyterlab_server         1.0.6                      py_0  \n",
      "keyring                   18.0.0                   py37_0  \n",
      "kiwisolver                1.1.0            py37ha925a31_0  \n",
      "krb5                      1.16.1               hc04afaa_7  \n",
      "lazy-object-proxy         1.4.2            py37he774522_0  \n",
      "libarchive                3.3.3                h0643e63_5  \n",
      "libblas                   3.8.0                    14_mkl    conda-forge\n",
      "libcurl                   7.65.3               h2a8f88b_0  \n",
      "libiconv                  1.15                 h1df5818_7  \n",
      "liblapack                 3.8.0                    14_mkl    conda-forge\n",
      "liblief                   0.9.0                ha925a31_2  \n",
      "libpng                    1.6.37               h2a8f88b_0  \n",
      "libsodium                 1.0.16               h9d3ae62_0  \n",
      "libssh2                   1.8.2                h7a1dbc1_0  \n",
      "libtiff                   4.0.10               hb898794_2  \n",
      "libxml2                   2.9.9                h464c3ec_0  \n",
      "libxslt                   1.1.33               h579f668_0  \n",
      "llvmlite                  0.29.0           py37ha925a31_0  \n",
      "locket                    0.2.0                    py37_1  \n",
      "lxml                      4.5.2                    pypi_0    pypi\n",
      "lz4-c                     1.8.1.2              h2fa13f4_0  \n",
      "lzo                       2.10                 h6df0209_2  \n",
      "m2w64-gcc-libgfortran     5.3.0                         6  \n",
      "m2w64-gcc-libs            5.3.0                         7  \n",
      "m2w64-gcc-libs-core       5.3.0                         7  \n",
      "m2w64-gmp                 6.1.0                         2  \n",
      "m2w64-libwinpthread-git   5.0.0.4634.697f757               2  \n",
      "markupsafe                1.1.1            py37he774522_0  \n",
      "matplotlib                3.1.1            py37hc8f65d3_0  \n",
      "maven                     3.6.0                         0    conda-forge\n",
      "mccabe                    0.6.1                    py37_1  \n",
      "menuinst                  1.4.16           py37he774522_0  \n",
      "mistune                   0.8.4            py37he774522_0  \n",
      "mkl                       2019.4                      245  \n",
      "mkl-service               2.3.0            py37hb782905_0  \n",
      "mkl_fft                   1.0.14           py37h14836fe_0  \n",
      "mkl_random                1.1.0            py37h675688f_0  \n",
      "mock                      3.0.5                    py37_0  \n",
      "more-itertools            7.2.0                    py37_0  \n",
      "mpmath                    1.1.0                    py37_0  \n",
      "msgpack-python            0.6.1            py37h74a9793_1  \n",
      "msys2-conda-epoch         20160418                      1  \n",
      "multipledispatch          0.6.0                    py37_0  \n",
      "multitasking              0.0.9                    pypi_0    pypi\n",
      "navigator-updater         0.2.1                    py37_0  \n",
      "nbconvert                 5.6.0                    py37_1  \n",
      "nbformat                  4.4.0                    py37_0  \n",
      "networkx                  2.3                        py_0  \n",
      "nltk                      3.4.5                    py37_0  \n",
      "nose                      1.3.7                    py37_2  \n",
      "notebook                  6.0.1                    py37_0  \n",
      "numba                     0.45.1           py37hf9181ef_0  \n",
      "numexpr                   2.7.0            py37hdce8814_0  \n",
      "numpy                     1.16.5           py37h19fb1c0_0  \n",
      "numpy-base                1.16.5           py37hc3f5095_0  \n",
      "numpydoc                  0.9.1                      py_0  \n",
      "olefile                   0.46                     py37_0  \n",
      "openjdk                   8.0.121          zulu8.20.0.5_0    conda-forge\n",
      "openpyxl                  3.0.0                      py_0  \n",
      "openssl                   1.1.1d               he774522_2  \n",
      "osqp                      0.6.1            py37h3bbf574_2    conda-forge\n",
      "packaging                 19.2                       py_0  \n",
      "pandas                    0.25.1           py37ha925a31_0  \n",
      "pandoc                    2.2.3.2                       0  \n",
      "pandocfilters             1.4.2                    py37_1  \n",
      "parsel                    1.5.2                    py37_0  \n",
      "parso                     0.5.1                      py_0  \n",
      "partd                     1.0.0                      py_0  \n",
      "path.py                   12.0.1                     py_0  \n",
      "pathlib2                  2.3.5                    py37_0  \n",
      "patsy                     0.5.1                    py37_0  \n",
      "pep8                      1.7.1                    py37_0  \n",
      "pickleshare               0.7.5                    py37_0  \n",
      "pillow                    6.2.0            py37hdc69c19_0  \n",
      "pip                       19.2.3                   py37_0  \n",
      "pkginfo                   1.5.0.1                  py37_0  \n",
      "pluggy                    0.13.0                   py37_0  \n",
      "ply                       3.11                     py37_0  \n",
      "powershell_shortcut       0.0.1                         2  \n",
      "prometheus_client         0.7.1                      py_0  \n",
      "prompt_toolkit            2.0.10                     py_0  \n",
      "psutil                    5.6.3            py37he774522_0  \n",
      "py                        1.8.0                    py37_0  \n",
      "py-lief                   0.9.0            py37ha925a31_2  \n",
      "py4j                      0.10.8.1                   py_0    conda-forge\n",
      "pyasn1                    0.4.8                      py_0    conda-forge\n",
      "pyasn1-modules            0.2.7                      py_0    conda-forge\n",
      "pycodestyle               2.5.0                    py37_0  \n",
      "pycosat                   0.6.3            py37hfa6e2cd_0  \n",
      "pycparser                 2.19                     py37_0  \n",
      "pycrypto                  2.6.1            py37hfa6e2cd_9  \n",
      "pycurl                    7.43.0.3         py37h7a1dbc1_0  \n",
      "pydispatcher              2.0.5                      py_1    conda-forge\n",
      "pyflakes                  2.1.1                    py37_0  \n",
      "pygments                  2.4.2                      py_0  \n",
      "pyhamcrest                2.0.0                      py_0    conda-forge\n",
      "pylint                    2.4.2                    py37_0  \n",
      "pyodbc                    4.0.27           py37ha925a31_0  \n",
      "pyopenssl                 19.0.0                   py37_0  \n",
      "pyparsing                 2.4.2                      py_0  \n",
      "pyportfolioopt            1.2.6                    pypi_0    pypi\n",
      "pyqt                      5.9.2            py37h6538335_2  \n",
      "pyreadline                2.1                      py37_1  \n",
      "pyrsistent                0.15.4           py37he774522_0  \n",
      "pysocks                   1.7.1                    py37_0  \n",
      "pytables                  3.5.2            py37h1da0976_1  \n",
      "pytest                    5.2.1                    py37_0  \n",
      "pytest-arraydiff          0.3              py37h39e3cac_0  \n",
      "pytest-astropy            0.5.0                    py37_0  \n",
      "pytest-doctestplus        0.4.0                      py_0  \n",
      "pytest-openfiles          0.4.0                      py_0  \n",
      "pytest-remotedata         0.3.2                    py37_0  \n",
      "pytest-runner             5.2                        py_0    conda-forge\n",
      "python                    3.7.4                h5263a28_0  \n",
      "python-dateutil           2.8.0                    py37_0  \n",
      "python-libarchive-c       2.8                     py37_13  \n",
      "python_abi                3.7                     1_cp37m    conda-forge\n",
      "pytz                      2019.3                     py_0  \n",
      "pywavelets                1.0.3            py37h8c2d366_1  \n",
      "pywin32                   223              py37hfa6e2cd_1  \n",
      "pywinpty                  0.5.5                 py37_1000  \n",
      "pyyaml                    5.1.2            py37he774522_0  \n",
      "pyzmq                     18.1.0           py37ha925a31_0  \n",
      "qt                        5.9.7            vc14h73c81de_0  \n",
      "qtawesome                 0.6.0                      py_0  \n",
      "qtconsole                 4.5.5                      py_0  \n",
      "qtpy                      1.9.0                      py_0  \n",
      "quandl                    3.5.3                    pypi_0    pypi\n",
      "queuelib                  1.5.0                    py37_0  \n",
      "requests                  2.22.0                   py37_0  \n",
      "rope                      0.14.0                     py_0  \n",
      "ruamel_yaml               0.15.46          py37hfa6e2cd_0  \n",
      "scikit-image              0.15.0           py37ha925a31_0  \n",
      "scikit-learn              0.21.3           py37h6288b17_0  \n",
      "scipy                     1.3.1            py37h29ff71c_0  \n",
      "scrapy                    1.8.0            py37h6538335_0    conda-forge\n",
      "scs                       2.1.2            py37h1d7f02c_1    conda-forge\n",
      "seaborn                   0.9.0                    py37_0  \n",
      "selenium                  3.141.0         py37hfa6e2cd_1000    conda-forge\n",
      "send2trash                1.5.0                    py37_0  \n",
      "service_identity          18.1.0                     py_0    conda-forge\n",
      "setuptools                41.4.0                   py37_0  \n",
      "simfin                    0.7.0                    pypi_0    pypi\n",
      "simplegeneric             0.8.1                    py37_2  \n",
      "singledispatch            3.4.0.3                  py37_0  \n",
      "sip                       4.19.8           py37h6538335_0  \n",
      "six                       1.12.0                   py37_0  \n",
      "snappy                    1.1.7                h777316e_3  \n",
      "snowballstemmer           2.0.0                      py_0  \n",
      "sortedcollections         1.1.2                    py37_0  \n",
      "sortedcontainers          2.1.0                    py37_0  \n",
      "soupsieve                 1.9.3                    py37_0  \n",
      "sphinx                    2.2.0                      py_0  \n",
      "sphinxcontrib             1.0                      py37_1  \n",
      "sphinxcontrib-applehelp   1.0.1                      py_0  \n",
      "sphinxcontrib-devhelp     1.0.1                      py_0  \n",
      "sphinxcontrib-htmlhelp    1.0.2                      py_0  \n",
      "sphinxcontrib-jsmath      1.0.1                      py_0  \n",
      "sphinxcontrib-qthelp      1.0.2                      py_0  \n",
      "sphinxcontrib-serializinghtml 1.1.3                      py_0  \n",
      "sphinxcontrib-websupport  1.1.2                      py_0  \n",
      "spyder                    3.3.6                    py37_0  \n",
      "spyder-kernels            0.5.2                    py37_0  \n",
      "sqlalchemy                1.3.9            py37he774522_0  \n",
      "sqlite                    3.30.0               he774522_0  \n",
      "statsmodels               0.10.1           py37h8c2d366_0  \n",
      "sympy                     1.4                      py37_0  \n",
      "tbb                       2019.4               h74a9793_0  \n",
      "tblib                     1.4.0                      py_0  \n",
      "terminado                 0.8.2                    py37_0  \n",
      "testpath                  0.4.2                    py37_0  \n",
      "tk                        8.6.8                hfa6e2cd_0  \n",
      "toolz                     0.10.0                     py_0  \n",
      "tornado                   6.0.3            py37he774522_0  \n",
      "tqdm                      4.36.1                     py_0  \n",
      "traitlets                 4.3.3                    py37_0  \n",
      "traittypes                0.2.1                      py_1    conda-forge\n",
      "twisted                   19.10.0          py37hfa6e2cd_0    conda-forge\n",
      "unicodecsv                0.14.1                   py37_0  \n",
      "urllib3                   1.24.2                   py37_0  \n",
      "vc                        14.1                 h0510ff6_4  \n",
      "vs2015_runtime            14.16.27012          hf0eaf9b_0  \n",
      "w3lib                     1.21.0                     py_0  \n",
      "wcwidth                   0.1.7                    py37_0  \n",
      "webencodings              0.5.1                    py37_1  \n",
      "werkzeug                  0.16.0                     py_0  \n",
      "wheel                     0.33.6                   py37_0  \n",
      "widgetsnbextension        3.5.1                    py37_0  \n",
      "win_inet_pton             1.1.0                    py37_0  \n",
      "win_unicode_console       0.5                      py37_0  \n",
      "wincertstore              0.2                      py37_0  \n",
      "winpty                    0.4.3                         4  \n",
      "wrapt                     1.11.2           py37he774522_0  \n",
      "xlrd                      1.2.0                    py37_0  \n",
      "xlsxwriter                1.2.1                      py_0  \n",
      "xlwings                   0.15.10                  py37_0  \n",
      "xlwt                      1.3.0                    py37_0  \n",
      "xmltodict                 0.12.0                     py_0  \n",
      "xz                        5.2.4                h2fa13f4_4  \n",
      "yaml                      0.1.7                hc54c509_2  \n",
      "yfinance                  0.1.55                   pypi_0    pypi\n",
      "zeromq                    4.3.1                h33f27b4_3  \n",
      "zict                      1.0.0                      py_0  \n",
      "zipp                      0.6.0                      py_0  \n",
      "zlib                      1.2.11               h62dcd97_3  \n",
      "zope.interface            4.7.1            py37hfa6e2cd_0    conda-forge\n",
      "zstd                      1.3.7                h508b16e_0  \n"
     ]
    }
   ],
   "source": [
    "!conda list"
   ]
  },
  {
   "cell_type": "code",
   "execution_count": 2,
   "metadata": {},
   "outputs": [],
   "source": [
    "!conda list --export > packages.txt"
   ]
  },
  {
   "cell_type": "markdown",
   "metadata": {},
   "source": [
    "### How to use that packages.txt file\n",
    "\n",
    "If you wanted to create your own conda environment with all those <br>\n",
    "packages, by having that txt file, you can simply execute the command <br>\n",
    "\n",
    "! conda create {environment-name} --file packages.txt <br>\n",
    "\n",
    "This would allow you to very quickly reuse somebody else's code if you wanted to!"
   ]
  },
  {
   "cell_type": "markdown",
   "metadata": {},
   "source": [
    "# Importing Modules into current notebook"
   ]
  },
  {
   "cell_type": "code",
   "execution_count": 3,
   "metadata": {},
   "outputs": [],
   "source": [
    "import numpy as np\n",
    "import pandas as pd\n",
    "import datetime"
   ]
  },
  {
   "cell_type": "code",
   "execution_count": 4,
   "metadata": {},
   "outputs": [
    {
     "data": {
      "text/plain": [
       "'0.25.1'"
      ]
     },
     "execution_count": 4,
     "metadata": {},
     "output_type": "execute_result"
    }
   ],
   "source": [
    "pd.__version__"
   ]
  },
  {
   "cell_type": "code",
   "execution_count": 5,
   "metadata": {},
   "outputs": [
    {
     "data": {
      "text/plain": [
       "'1.16.5'"
      ]
     },
     "execution_count": 5,
     "metadata": {},
     "output_type": "execute_result"
    }
   ],
   "source": [
    "np.__version__"
   ]
  },
  {
   "cell_type": "markdown",
   "metadata": {},
   "source": [
    "# Importing your own code"
   ]
  },
  {
   "cell_type": "code",
   "execution_count": 6,
   "metadata": {},
   "outputs": [],
   "source": [
    "# METHOD 1 - importing specific functions\n",
    "\n",
    "from utilities import echo_function"
   ]
  },
  {
   "cell_type": "code",
   "execution_count": 7,
   "metadata": {},
   "outputs": [
    {
     "name": "stdout",
     "output_type": "stream",
     "text": [
      "ayyyy yo\n"
     ]
    }
   ],
   "source": [
    "echo_function('ayyyy yo')"
   ]
  },
  {
   "cell_type": "code",
   "execution_count": 8,
   "metadata": {},
   "outputs": [],
   "source": [
    "# METHOD 2 - importing all functions\n",
    "\n",
    "import utilities"
   ]
  },
  {
   "cell_type": "code",
   "execution_count": 9,
   "metadata": {},
   "outputs": [
    {
     "name": "stdout",
     "output_type": "stream",
     "text": [
      "howdy\n"
     ]
    }
   ],
   "source": [
    "echo_function('howdy')"
   ]
  },
  {
   "cell_type": "code",
   "execution_count": 10,
   "metadata": {},
   "outputs": [],
   "source": [
    "# METHOD 3 - same as above\n",
    "\n",
    "from utilities import *"
   ]
  },
  {
   "cell_type": "code",
   "execution_count": 11,
   "metadata": {},
   "outputs": [
    {
     "name": "stdout",
     "output_type": "stream",
     "text": [
      "hello?\n"
     ]
    }
   ],
   "source": [
    "echo_function('hello?')"
   ]
  },
  {
   "cell_type": "code",
   "execution_count": 12,
   "metadata": {},
   "outputs": [],
   "source": [
    "# METHOD 4 - same as a more complex library\n",
    "\n",
    "import utilities as ut"
   ]
  },
  {
   "cell_type": "code",
   "execution_count": 13,
   "metadata": {},
   "outputs": [
    {
     "name": "stdout",
     "output_type": "stream",
     "text": [
      "oy?\n"
     ]
    }
   ],
   "source": [
    "ut.echo_function('oy?')"
   ]
  }
 ],
 "metadata": {
  "kernelspec": {
   "display_name": "Python 3",
   "language": "python",
   "name": "python3"
  },
  "language_info": {
   "codemirror_mode": {
    "name": "ipython",
    "version": 3
   },
   "file_extension": ".py",
   "mimetype": "text/x-python",
   "name": "python",
   "nbconvert_exporter": "python",
   "pygments_lexer": "ipython3",
   "version": "3.7.4"
  },
  "toc": {
   "base_numbering": 1,
   "nav_menu": {},
   "number_sections": false,
   "sideBar": false,
   "skip_h1_title": false,
   "title_cell": "Table of Contents",
   "title_sidebar": "Contents",
   "toc_cell": false,
   "toc_position": {},
   "toc_section_display": false,
   "toc_window_display": false
  }
 },
 "nbformat": 4,
 "nbformat_minor": 2
}
