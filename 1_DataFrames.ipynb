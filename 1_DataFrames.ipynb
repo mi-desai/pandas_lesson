{
 "cells": [
  {
   "cell_type": "markdown",
   "metadata": {},
   "source": [
    "# PART 1 - DATAFRAMES BASICS\n",
    "\n",
    "## Concepts & Discussion (GoogleDoc)\n",
    "\n",
    "- Think in terms of tables\n",
    "- What is all this stuff?\n",
    "- What is a DataFrame?\n",
    "- What is an index?\n",
    "- What is a series?\n",
    "\n",
    "\n",
    "## Code Examples (Jupyter Notebook)\n",
    "\n",
    "- Reading in CSV's, JSON, etc.\n",
    "- Shapes\n",
    "- Columns\n",
    "- Changing column names\n",
    "- Rows\n",
    "- Viewing data - .head(), .tail(), \n",
    "- The default index\n",
    "- Setting an index\n",
    "- Sorting by index\n",
    "- Getting index values\n",
    "- Conversion to lists / arrays\n",
    "- Writing to Excel, CSV, etc.\n",
    "- Creation of DataFrames from dictionaries\n",
    "- Creating empty DF's\n",
    "\n",
    "\n",
    "## Comments\n",
    "\n",
    "The idea here is to cover the absolute basics of getting started.<br>\n",
    "\n",
    "The idea is that if you do what I recommend here, you will have the <br>\n",
    "fastest start, with hopefully the least amount of headache, and perhaps <br>\n",
    "never have to think about environments or setup in Python ever again. "
   ]
  },
  {
   "cell_type": "code",
   "execution_count": null,
   "metadata": {},
   "outputs": [],
   "source": []
  }
 ],
 "metadata": {
  "kernelspec": {
   "display_name": "Python 3",
   "language": "python",
   "name": "python3"
  },
  "language_info": {
   "codemirror_mode": {
    "name": "ipython",
    "version": 3
   },
   "file_extension": ".py",
   "mimetype": "text/x-python",
   "name": "python",
   "nbconvert_exporter": "python",
   "pygments_lexer": "ipython3",
   "version": "3.7.4"
  },
  "toc": {
   "base_numbering": 1,
   "nav_menu": {},
   "number_sections": false,
   "sideBar": false,
   "skip_h1_title": false,
   "title_cell": "Table of Contents",
   "title_sidebar": "Contents",
   "toc_cell": false,
   "toc_position": {},
   "toc_section_display": false,
   "toc_window_display": false
  }
 },
 "nbformat": 4,
 "nbformat_minor": 2
}
